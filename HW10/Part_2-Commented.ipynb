{
 "cells": [
  {
   "cell_type": "markdown",
   "id": "06b384f5-e216-4d2f-a4ad-4c5558c21deb",
   "metadata": {},
   "source": [
    "## HW10\n",
    "\n",
    "+ just showing how to compute matrix bigA and the covariance matrix of bigX\n",
    "* there are probably other and better ways to do the same\n",
    "+ the rest shoud be straightforward"
   ]
  },
  {
   "cell_type": "code",
   "execution_count": 1,
   "id": "d82661fc-abad-49d1-afd2-ebdfcbd47122",
   "metadata": {},
   "outputs": [],
   "source": [
    "from statsmodels.tsa.tsatools import unvec, vec\n",
    "import numpy as np"
   ]
  },
  {
   "cell_type": "code",
   "execution_count": 2,
   "id": "912a79b8-0cd5-4fc1-b78a-2d2f94e24171",
   "metadata": {},
   "outputs": [],
   "source": [
    "def get_SSmat(d, phi1, phi2, sigma_eta, sigma_eps):\n",
    "    \"\"\"\n",
    "    State Space matrices\n",
    "    \"\"\"\n",
    "    \n",
    "    C = np.array([[1., -1.]])\n",
    "    d = np.array([[d]])\n",
    "    A = np.array([[phi1, phi2],[1., 0]])\n",
    "    selection = np.array([[1.],[0]])\n",
    "    state_cov = np.array([[sigma_eps ** 2]])\n",
    "    SigE = selection@state_cov@selection.T\n",
    "    SigV = np.array([[sigma_eta ** 2]])\n",
    "    \n",
    "    return d, A, C, SigE, SigV\n",
    "\n",
    "def get_SigX0(A, SigE):\n",
    "    \"\"\"\n",
    "    Covariance matrix of the initial state\n",
    "    \"\"\"\n",
    "    vecSigX0=np.linalg.solve(np.eye(vec(SigE).shape[0]) - np.kron(A, A), vec(SigE))\n",
    "    SigX0 = unvec(vecSigX0)\n",
    "    \n",
    "    return SigX0\n",
    "\n",
    "def get_SigBigE(A, SigE, T):\n",
    "    \"\"\"\n",
    "    A function to compute the covariance matrix of bigE. Its a block diagonal matrix with the cov matrix of X0 in the \n",
    "    first block and then the identical covariance matrices of the state innovations\n",
    "    \"\"\"\n",
    "    \n",
    "    n_states = A.shape[0]\n",
    "    assert n_states == SigE.shape[0]\n",
    "    \n",
    "    SigX0 = get_SigX0(A, SigE)\n",
    "    \n",
    "    SigBigE = np.zeros(((T+1)*n_states, (T+1)*n_states))\n",
    "    SigBigE[:n_states, :n_states] = SigX0\n",
    "    SigBigE[n_states:, n_states:] = np.kron(np.eye(T), SigE)\n",
    "    \n",
    "    return SigBigE\n",
    "    \n",
    "\n",
    "def get_bigA(A, T):\n",
    "    \"\"\"\n",
    "    X = bigA \\times E\n",
    "    \"\"\"\n",
    "    \n",
    "    n_states = A.shape[0]\n",
    "    \n",
    "    bigA = np.zeros((T*n_states, (T+1)*n_states))\n",
    "    bigA[:n_states, :n_states] = A\n",
    "    bigA[:n_states, n_states:n_states*2] = np.eye(n_states)\n",
    "\n",
    "    for i in range(2, T+1):\n",
    "        last_row_indices = range(n_states*(i-2), n_states*(i-1))\n",
    "        row_indices = range(n_states*(i-1),n_states*i)\n",
    "        bigA[row_indices, :n_states] = A@bigA[last_row_indices, :n_states]\n",
    "        bigA[row_indices, n_states:] = bigA[last_row_indices, :-n_states]\n",
    "    \n",
    "    return bigA\n",
    "\n",
    "def get_sample_X(A, SigE, T):\n",
    "    \"\"\"\n",
    "    A function to simulate data from the model for X\n",
    "    \"\"\"\n",
    "    \n",
    "    n_states = A.shape[0]\n",
    "    \n",
    "    SigX0 = get_SigX0(A, SigE)\n",
    "    x0 = np.random.multivariate_normal(np.zeros(n_states), SigX0)\n",
    "    e_1 = np.random.multivariate_normal(np.zeros(n_states), SigE)\n",
    "    \n",
    "    x_1 = A@x0 + e_1\n",
    "\n",
    "    X = x_1\n",
    "    E = np.hstack((x0, e_1))\n",
    "    x_t = x_1\n",
    "\n",
    "    for i in range(2, T+1):\n",
    "        e_t = np.random.multivariate_normal(np.zeros(2), SigE)\n",
    "        x_t = A@x_t + e_t\n",
    "\n",
    "        X = np.hstack((X, x_t))\n",
    "        E = np.hstack((E, e_t))\n",
    "        \n",
    "    return X, E"
   ]
  },
  {
   "cell_type": "markdown",
   "id": "8aeb4bc3-28f3-40d7-aa84-9df6397742a9",
   "metadata": {},
   "source": [
    "Get State space matrices"
   ]
  },
  {
   "cell_type": "code",
   "execution_count": 3,
   "id": "76d3beb3-796e-4446-9bf4-6a60ec0c607f",
   "metadata": {},
   "outputs": [],
   "source": [
    "d, A, C, SigE, SigV = get_SSmat(d=0.8119, phi1 = 1.5303, phi2 = -0.6097, sigma_eta = 0.6893, sigma_eps =0.6199)"
   ]
  },
  {
   "cell_type": "markdown",
   "id": "7aea8188-9b7e-409e-a851-dbf02ab7c7d6",
   "metadata": {},
   "source": [
    "Get bigA matrix for some T"
   ]
  },
  {
   "cell_type": "code",
   "execution_count": 4,
   "id": "02ac9f81-aaa1-4bbf-b8f5-9a12f929bef5",
   "metadata": {},
   "outputs": [],
   "source": [
    "T = 1000\n",
    "bigA = get_bigA(A, T)"
   ]
  },
  {
   "cell_type": "markdown",
   "id": "0fe309b2-ccd7-46a7-9449-8aead151a500",
   "metadata": {},
   "source": [
    "Simulate data for X and E using the recursive representation"
   ]
  },
  {
   "cell_type": "code",
   "execution_count": 5,
   "id": "04ee7637-40fb-4307-b4a9-64f49cf8db57",
   "metadata": {},
   "outputs": [],
   "source": [
    "X, E = get_sample_X(A=A, SigE=SigE, T=T)"
   ]
  },
  {
   "cell_type": "markdown",
   "id": "b436ad09-a4ee-4013-9690-f9fc07236fb1",
   "metadata": {},
   "source": [
    "Given E and bigA, generate another sample X using the bigA matrix"
   ]
  },
  {
   "cell_type": "code",
   "execution_count": 6,
   "id": "03526fa9-1549-4a27-a161-e9e1f0f937e2",
   "metadata": {},
   "outputs": [],
   "source": [
    "X2 = bigA @ E"
   ]
  },
  {
   "cell_type": "markdown",
   "id": "5362d654-565b-45ff-a99b-67120e2817c4",
   "metadata": {},
   "source": [
    "Check that the two samples are the same"
   ]
  },
  {
   "cell_type": "code",
   "execution_count": 7,
   "id": "01aa14f9-4dcb-4e80-af29-b6b3b9e5db06",
   "metadata": {},
   "outputs": [],
   "source": [
    "np.testing.assert_allclose(X, X2)"
   ]
  },
  {
   "cell_type": "code",
   "execution_count": 8,
   "id": "b7da47ff-fbed-4004-bce3-5c577a1b05d0",
   "metadata": {},
   "outputs": [],
   "source": [
    "SigBigE = get_SigBigE(A=A, SigE=SigE, T=T)"
   ]
  },
  {
   "cell_type": "code",
   "execution_count": 9,
   "id": "d4e16679-25bd-447a-8ff2-8c8cf0ac690b",
   "metadata": {},
   "outputs": [],
   "source": [
    "SigBigX = bigA @ SigBigE @ bigA.T"
   ]
  }
 ],
 "metadata": {
  "kernelspec": {
   "display_name": "Python 3 (ipykernel)",
   "language": "python",
   "name": "python3"
  },
  "language_info": {
   "codemirror_mode": {
    "name": "ipython",
    "version": 3
   },
   "file_extension": ".py",
   "mimetype": "text/x-python",
   "name": "python",
   "nbconvert_exporter": "python",
   "pygments_lexer": "ipython3",
   "version": "3.10.2"
  }
 },
 "nbformat": 4,
 "nbformat_minor": 5
}
