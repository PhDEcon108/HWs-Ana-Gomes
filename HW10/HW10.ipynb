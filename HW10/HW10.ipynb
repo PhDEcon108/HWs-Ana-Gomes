{
 "cells": [
  {
   "cell_type": "markdown",
   "id": "7b8e57a4-cb36-4652-86f4-a2d96dfcff89",
   "metadata": {},
   "source": [
    "## HW 10"
   ]
  },
  {
   "cell_type": "code",
   "execution_count": 1,
   "id": "3fe9ab36-bde4-4be6-a59e-f9ecbda38386",
   "metadata": {},
   "outputs": [],
   "source": [
    "#Imports\n",
    "\n",
    "import statsmodels.tsa.api as tsa\n",
    "from statsmodels.tsa.tsatools import unvec, vec\n",
    "import numpy as np\n",
    "import scipy as sp\n",
    "from scipy.linalg import toeplitz\n",
    "\n",
    "import warnings\n",
    "warnings.filterwarnings(\"ignore\", category=np.VisibleDeprecationWarning) "
   ]
  },
  {
   "cell_type": "markdown",
   "id": "c01d80cd-944a-475c-82e3-73fd99c6e85e",
   "metadata": {},
   "source": [
    "### Part 2\n",
    "\n",
    "#### a) Find a state space representation for $z_t = \\Delta y_t$ with a stationary state vector $x_t$. Use the notation [here](https://niskrev.github.io/PhDEcon108/01-Lectures/07-Multivariate/02-StateSpace.html). Use $d$ for the intercept in the observation equation (This term is missing in the representation in the link, you can think of $z$ being de-meaned: $z_t = \\bar{z}_t - d$)"
   ]
  },
  {
   "cell_type": "markdown",
   "id": "e893cbd6-9a91-4176-b6a3-ae01b3671e5f",
   "metadata": {},
   "source": [
    "## UC model\n",
    "\n",
    "With\n",
    "\n",
    "$$z_t =  \\Delta y_t = \\tau_t - \\tau_{t-1} + c_t - c_{t-1} = d + \\eta_t + \\Delta c_t $$\n",
    "\n",
    "\n",
    "State space form is: \n",
    "\n",
    "$$ \n",
    "\\begin{align}\n",
    "X = \\left[\\begin{array}{c}\n",
    "c_{t}\\\\\n",
    "c_{t-1}\\\\\n",
    "\\end{array}\\right]\n",
    " &=\n",
    "\\begin{bmatrix}\n",
    "         \\phi_1 & \\phi_2 \\\\\n",
    "         1 & 0\n",
    "    \\end{bmatrix}\n",
    "\\left[\\begin{array}{c}\n",
    "c_{t-1}\\\\\n",
    "c_{t-2}\\\\\n",
    "\\end{array}\\right] \n",
    "+\n",
    "\\left[\\begin{array}{c}\n",
    "1\\\\\n",
    "0\\\\\n",
    "\\end{array}\\right]\\varepsilon_{t} , \\;\\;\\;\\;\\; \\varepsilon_{t} \\sim \\mathcal{N} \\left( 0, \\;\\mathbf{\\Sigma}_{\\varepsilon}\\right)\n",
    "\\\\\\\\\n",
    "z_t & = \\left[\\begin{array}{cc} 1 \\; -1 \\end{array} \\right] \n",
    "X  + d + \\eta_t \\\\\\\\\n",
    "\\end{align}\n",
    "$$"
   ]
  },
  {
   "cell_type": "markdown",
   "id": "52d52d18-5752-4599-a6b1-3c78cdc27252",
   "metadata": {},
   "source": [
    "#### b)  Write a python function which takes values for the model parameters as input and returns the matrices of the state space representation as output. "
   ]
  },
  {
   "cell_type": "code",
   "execution_count": 2,
   "id": "d3e7df74-8c27-4e6c-8985-a8db058b4307",
   "metadata": {},
   "outputs": [],
   "source": [
    "def staterep(d, phi1, phi2, sigma_eta, sigma_eps):\n",
    "\n",
    "    design = np.array([[1., -1.]])\n",
    "    obs_intercept = np.array([[d]])\n",
    "    transition = np.array([[phi1, phi2],[1., 0]])\n",
    "    selection = np.array([[1.],[0]])\n",
    "    obs_cov = np.array([[sigma_eta ** 2]])\n",
    "    state_cov = np.array([[sigma_eps ** 2]])\n",
    "    \n",
    "    return design, obs_intercept, transition, selection, obs_cov, state_cov"
   ]
  },
  {
   "cell_type": "code",
   "execution_count": 3,
   "id": "46069f5f-a2a1-4bfe-94a6-57cc4e0718e8",
   "metadata": {},
   "outputs": [],
   "source": [
    "#Values from Morley, Nelson & Zivot (2003, p.238, Table 1)\n",
    "d=0.8119\n",
    "\n",
    "[design, obs_intercept, transition, selection, obs_cov, state_cov] = staterep(d, 1.5303, -0.6097, 0.6893, 0.6199)"
   ]
  },
  {
   "cell_type": "markdown",
   "id": "37d58d17-a63c-423a-ba3e-2b134554d4a4",
   "metadata": {},
   "source": [
    "#### c) Construct the covariance matrix of the marginal distribution of $X$ for T=2"
   ]
  },
  {
   "cell_type": "markdown",
   "id": "7ffbbd4f-2ab8-49dc-b704-df2062286cb5",
   "metadata": {},
   "source": [
    "Marginal distribution of $\\boldsymbol X = [\\mathbf{x}^{\\prime}_{1}, \\mathbf{x}^{\\prime}_{2}]^{\\prime}$"
   ]
  },
  {
   "cell_type": "markdown",
   "id": "869bc9a2-dff5-4f40-b490-f77c097b9005",
   "metadata": {},
   "source": [
    "$$\n",
    "\\underset{\\boldsymbol X}{\\underbrace{\n",
    "\\left[\\begin{array}{c}\n",
    "\\mathbf{x}_{1}\\\\\n",
    "\\mathbf{x}_{2}\\\\\n",
    "\\end{array}\\right]}}\n",
    "=\n",
    "\\underset{\\boldsymbol A}{\\underbrace{\n",
    "\\left[\\begin{array}{cccccccc}\n",
    "A & I & 0 \\\\\n",
    "A^2 & A & I\n",
    "\\end{array}\\right]}}\n",
    "\\underset{\\boldsymbol E}{\\underbrace{\n",
    "\\left[\\begin{array}{c}\n",
    "\\mathbf{x}_{0}\\\\\n",
    "\\boldsymbol \\varepsilon_{1}\\\\\n",
    "\\boldsymbol \\varepsilon_{2}\n",
    "\\end{array}\\right]}}\n",
    "$$\n",
    "\n",
    "\n",
    "$$\n",
    "\\boldsymbol X \\sim \\mathcal{N} \\left( 0, \\; \\boldsymbol A \\mathbf{\\Sigma}_{\\boldsymbol E} \\boldsymbol A^{\\prime}\\right)\n",
    "$$\n"
   ]
  },
  {
   "cell_type": "code",
   "execution_count": 4,
   "id": "3bb54346-18d6-4c14-820c-37bfdc18a349",
   "metadata": {},
   "outputs": [
    {
     "data": {
      "text/plain": [
       "array([[6.35681416, 6.04325819, 6.04325819, 6.35681416],\n",
       "       [6.04325819, 6.35681416, 5.37224841, 6.04325819],\n",
       "       [6.04325819, 5.37224841, 6.35681416, 6.04325819],\n",
       "       [6.35681416, 6.04325819, 6.04325819, 6.35681416]])"
      ]
     },
     "execution_count": 4,
     "metadata": {},
     "output_type": "execute_result"
    }
   ],
   "source": [
    "#building the covariance matrix of the marginal distribution of X\n",
    "SigE = selection@state_cov@selection.T\n",
    "\n",
    "vecx0=np.linalg.solve(np.eye((2*1)**2)-np.kron(transition, transition), vec(SigE))\n",
    "x0=unvec(vecx0)\n",
    "\n",
    "bigA = np.concatenate((np.concatenate((np.concatenate((transition, transition@transition)),np.concatenate((np.identity(2),transition))),axis=1),np.concatenate((np.zeros((2,2)),np.identity(2)))),axis=1)\n",
    "\n",
    "SigBigE=sp.linalg.block_diag(x0,SigE,SigE)\n",
    "\n",
    "covX=bigA@SigBigE@bigA.T\n",
    "covX"
   ]
  },
  {
   "cell_type": "markdown",
   "id": "1d02419d-4f15-40e5-99ad-a59078a11377",
   "metadata": {},
   "source": [
    "#### d) Construct the mean vector and covariance matrix of the marginal distribution of $Z$ for T=2 "
   ]
  },
  {
   "cell_type": "markdown",
   "id": "d8ff2913-4997-4343-8652-606f7aab7016",
   "metadata": {},
   "source": [
    "#### Marginal distribution of $\\boldsymbol Z = \\left[\\mathbf{z}^{\\prime}_{1}, \\mathbf{z}^{\\prime}_{2} \\right]^{\\prime}$\n",
    "\n",
    "$$\n",
    "\\underset{\\boldsymbol Z}{\\underbrace{\n",
    "\\left[\\begin{array}{c}\n",
    "\\mathbf{z}_{1}\\\\\n",
    "\\mathbf{z}_{2}\n",
    "\\end{array}\\right]}}\n",
    "=\n",
    "\\underset{\\boldsymbol C}{\\underbrace{\n",
    "\\left[\\begin{array}{cccc}\n",
    "C &  0 \\\\\n",
    "0 &  C \\\\\n",
    "\\end{array}\\right]}}\n",
    "\\underset{\\boldsymbol X}{\\underbrace{\n",
    "\\left[\\begin{array}{c}\n",
    "\\mathbf{x}_{1}\\\\\n",
    "\\mathbf{x}_{2}\n",
    "\\end{array}\\right]}}\n",
    "+\n",
    "\\underset{\\boldsymbol V}{\\underbrace{\n",
    "\\left[\\begin{array}{c}\n",
    "\\boldsymbol \\eta_{1}\\\\\n",
    "\\boldsymbol \\eta_{2}\n",
    "\\end{array}\\right]}}\n",
    "+ d\n",
    "$$"
   ]
  },
  {
   "cell_type": "code",
   "execution_count": 5,
   "id": "ac6802e7-530b-4735-9227-c6c0109d32c1",
   "metadata": {},
   "outputs": [
    {
     "data": {
      "text/plain": [
       "array([[1.10224643, 0.35745381],\n",
       "       [0.35745381, 1.10224643]])"
      ]
     },
     "execution_count": 5,
     "metadata": {},
     "output_type": "execute_result"
    }
   ],
   "source": [
    "#building the covariance matrix of the marginal distribution of Z\n",
    "bigC = sp.linalg.block_diag(design,design)\n",
    "\n",
    "SigV = obs_cov\n",
    "SigBigV = sp.linalg.block_diag(SigV,SigV)\n",
    "\n",
    "covZ = bigC@covX@bigC.T + SigBigV\n",
    "covZ"
   ]
  },
  {
   "cell_type": "code",
   "execution_count": 6,
   "id": "5e70e433-406c-4860-9d32-208edf925abf",
   "metadata": {},
   "outputs": [
    {
     "data": {
      "text/plain": [
       "array([[0.8119],\n",
       "       [0.8119]])"
      ]
     },
     "execution_count": 6,
     "metadata": {},
     "output_type": "execute_result"
    }
   ],
   "source": [
    "#building the mean vector\n",
    "meanZ = np.array([[d],[d]])\n",
    "meanZ"
   ]
  },
  {
   "cell_type": "markdown",
   "id": "866f802a-e3ee-48b9-a5d1-aca71fb65eb8",
   "metadata": {},
   "source": [
    "#### e) Write a function which takes model parameter values and a sample size T as inputs and returns the mean vector and covariance matrix of the marginal distribution of $Z$."
   ]
  },
  {
   "cell_type": "code",
   "execution_count": 7,
   "id": "c109659d-feb4-4817-b2a8-c1add0706b11",
   "metadata": {},
   "outputs": [],
   "source": [
    "def magdistZ(d, phi1, phi2, sigma_eta, sigma_eps, T):\n",
    "    \n",
    "    design = np.array([[1., -1.]])\n",
    "    obs_intercept = np.array([[d]])\n",
    "    transition = np.array([[phi1, phi2],[1., 0]])\n",
    "    selection = np.array([[1.],[0]])\n",
    "    obs_cov = np.array([[sigma_eta ** 2]])\n",
    "    state_cov = np.array([[sigma_eps ** 2]])\n",
    "    \n",
    "    SigE = selection@state_cov@selection.T\n",
    "\n",
    "    vecx0=np.linalg.solve(np.eye((2*1)**2)-np.kron(transition, transition), vec(SigE))\n",
    "    x0=unvec(vecx0)\n",
    "\n",
    "    for t in range(0,T):\n",
    "        A = np.zeros(T)\n",
    "        A[T] = np.linalg.matrix_power(transition, T)\n",
    "        r = np.zeros(T)\n",
    "        bigA = toeplitz(A, np.identity(2), r)\n",
    "\n",
    "    SigBigE=sp.linalg.block_diag(x0,SigE,SigE)\n",
    "    covX=bigA@SigBigE@bigA.T\n",
    "    \n",
    "    aux=design.reshape(1,1,2).repeat(T,axis=0)\n",
    "    bigC=sp.linalg.block_diag( *aux )\n",
    "    \n",
    "    SigV = obs_cov\n",
    "    SigBigV = np.identity(T)*SigV\n",
    "    \n",
    "    covZ = bigC@covX@bigC.T + SigBigV\n",
    "    meanZ = np.full((T, 1), d)\n",
    "    \n",
    "    return covZ, meanZ"
   ]
  },
  {
   "cell_type": "code",
   "execution_count": 8,
   "id": "30f40734-93bd-40cb-aed1-ae3750fa069b",
   "metadata": {},
   "outputs": [
    {
     "ename": "IndexError",
     "evalue": "index 100 is out of bounds for axis 0 with size 100",
     "output_type": "error",
     "traceback": [
      "\u001b[1;31m---------------------------------------------------------------------------\u001b[0m",
      "\u001b[1;31mIndexError\u001b[0m                                Traceback (most recent call last)",
      "\u001b[1;32m~\\AppData\\Local\\Temp/ipykernel_44012/4227209921.py\u001b[0m in \u001b[0;36m<module>\u001b[1;34m\u001b[0m\n\u001b[0;32m      1\u001b[0m \u001b[1;31m#teste\u001b[0m\u001b[1;33m\u001b[0m\u001b[1;33m\u001b[0m\u001b[0m\n\u001b[1;32m----> 2\u001b[1;33m \u001b[0mmagdistZ\u001b[0m\u001b[1;33m(\u001b[0m\u001b[0md\u001b[0m\u001b[1;33m,\u001b[0m \u001b[1;36m1.5303\u001b[0m\u001b[1;33m,\u001b[0m \u001b[1;33m-\u001b[0m\u001b[1;36m0.6097\u001b[0m\u001b[1;33m,\u001b[0m \u001b[1;36m0.6893\u001b[0m\u001b[1;33m,\u001b[0m \u001b[1;36m0.6199\u001b[0m\u001b[1;33m,\u001b[0m \u001b[1;36m100\u001b[0m\u001b[1;33m)\u001b[0m\u001b[1;33m\u001b[0m\u001b[1;33m\u001b[0m\u001b[0m\n\u001b[0m",
      "\u001b[1;32m~\\AppData\\Local\\Temp/ipykernel_44012/2454793113.py\u001b[0m in \u001b[0;36mmagdistZ\u001b[1;34m(d, phi1, phi2, sigma_eta, sigma_eps, T)\u001b[0m\n\u001b[0;32m     15\u001b[0m     \u001b[1;32mfor\u001b[0m \u001b[0mt\u001b[0m \u001b[1;32min\u001b[0m \u001b[0mrange\u001b[0m\u001b[1;33m(\u001b[0m\u001b[1;36m0\u001b[0m\u001b[1;33m,\u001b[0m\u001b[0mT\u001b[0m\u001b[1;33m)\u001b[0m\u001b[1;33m:\u001b[0m\u001b[1;33m\u001b[0m\u001b[1;33m\u001b[0m\u001b[0m\n\u001b[0;32m     16\u001b[0m         \u001b[0mA\u001b[0m \u001b[1;33m=\u001b[0m \u001b[0mnp\u001b[0m\u001b[1;33m.\u001b[0m\u001b[0mzeros\u001b[0m\u001b[1;33m(\u001b[0m\u001b[0mT\u001b[0m\u001b[1;33m)\u001b[0m\u001b[1;33m\u001b[0m\u001b[1;33m\u001b[0m\u001b[0m\n\u001b[1;32m---> 17\u001b[1;33m         \u001b[0mA\u001b[0m\u001b[1;33m[\u001b[0m\u001b[0mT\u001b[0m\u001b[1;33m]\u001b[0m \u001b[1;33m=\u001b[0m \u001b[0mnp\u001b[0m\u001b[1;33m.\u001b[0m\u001b[0mlinalg\u001b[0m\u001b[1;33m.\u001b[0m\u001b[0mmatrix_power\u001b[0m\u001b[1;33m(\u001b[0m\u001b[0mtransition\u001b[0m\u001b[1;33m,\u001b[0m \u001b[0mT\u001b[0m\u001b[1;33m)\u001b[0m\u001b[1;33m\u001b[0m\u001b[1;33m\u001b[0m\u001b[0m\n\u001b[0m\u001b[0;32m     18\u001b[0m         \u001b[0mr\u001b[0m \u001b[1;33m=\u001b[0m \u001b[0mnp\u001b[0m\u001b[1;33m.\u001b[0m\u001b[0mzeros\u001b[0m\u001b[1;33m(\u001b[0m\u001b[0mT\u001b[0m\u001b[1;33m)\u001b[0m\u001b[1;33m\u001b[0m\u001b[1;33m\u001b[0m\u001b[0m\n\u001b[0;32m     19\u001b[0m         \u001b[0mbigA\u001b[0m \u001b[1;33m=\u001b[0m \u001b[0mtoeplitz\u001b[0m\u001b[1;33m(\u001b[0m\u001b[0mA\u001b[0m\u001b[1;33m,\u001b[0m \u001b[0mnp\u001b[0m\u001b[1;33m.\u001b[0m\u001b[0midentity\u001b[0m\u001b[1;33m(\u001b[0m\u001b[1;36m2\u001b[0m\u001b[1;33m)\u001b[0m\u001b[1;33m,\u001b[0m \u001b[0mr\u001b[0m\u001b[1;33m)\u001b[0m\u001b[1;33m\u001b[0m\u001b[1;33m\u001b[0m\u001b[0m\n",
      "\u001b[1;31mIndexError\u001b[0m: index 100 is out of bounds for axis 0 with size 100"
     ]
    }
   ],
   "source": [
    "#teste\n",
    "magdistZ(d, 1.5303, -0.6097, 0.6893, 0.6199, 100)"
   ]
  },
  {
   "cell_type": "markdown",
   "id": "84a5e6b3-2ea3-4f95-84f4-7c15d65d2acf",
   "metadata": {},
   "source": []
  },
  {
   "cell_type": "markdown",
   "id": "2a06fe48-ffce-463e-bcb6-6c52c37509e1",
   "metadata": {},
   "source": [
    "#### f) Draw a sample from the distribution of $Z$ for T=100 and compute the log-likelihood of $Z$."
   ]
  },
  {
   "cell_type": "markdown",
   "id": "1a8f45b2-872d-4c1d-932d-99be435f9a93",
   "metadata": {},
   "source": []
  },
  {
   "cell_type": "code",
   "execution_count": null,
   "id": "2654eeab-a2d5-4ece-af19-31fefd1f3d85",
   "metadata": {},
   "outputs": [],
   "source": []
  },
  {
   "cell_type": "code",
   "execution_count": null,
   "id": "537a9162-0eea-4250-a257-4feb493844a0",
   "metadata": {},
   "outputs": [],
   "source": []
  }
 ],
 "metadata": {
  "kernelspec": {
   "display_name": "Python 3 (ipykernel)",
   "language": "python",
   "name": "python3"
  },
  "language_info": {
   "codemirror_mode": {
    "name": "ipython",
    "version": 3
   },
   "file_extension": ".py",
   "mimetype": "text/x-python",
   "name": "python",
   "nbconvert_exporter": "python",
   "pygments_lexer": "ipython3",
   "version": "3.9.7"
  }
 },
 "nbformat": 4,
 "nbformat_minor": 5
}
